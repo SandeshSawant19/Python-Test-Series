{
 "cells": [
  {
   "cell_type": "markdown",
   "id": "bdd143c2",
   "metadata": {},
   "source": [
    "# Q.1. Converting an Integer into Decimals ?"
   ]
  },
  {
   "cell_type": "code",
   "execution_count": 1,
   "id": "27de0fb6",
   "metadata": {},
   "outputs": [
    {
     "name": "stdout",
     "output_type": "stream",
     "text": [
      "Final Output : 5.0\n"
     ]
    }
   ],
   "source": [
    "Integer_Value = 5\n",
    "Decimal_Value = float(Integer_Value)\n",
    "\n",
    "print(\"Final Output :\",Decimal_Value)"
   ]
  },
  {
   "cell_type": "markdown",
   "id": "5bbdc75d",
   "metadata": {},
   "source": [
    "# Q.2. Converting an String of Integers into Decimals?"
   ]
  },
  {
   "cell_type": "code",
   "execution_count": 2,
   "id": "e29de31e",
   "metadata": {},
   "outputs": [
    {
     "name": "stdout",
     "output_type": "stream",
     "text": [
      "Final Output : 123.0\n"
     ]
    }
   ],
   "source": [
    "String_Of_integer = \"123\"\n",
    "Integer = int(String_Of_integer)\n",
    "\n",
    "Decimal_Value = float(Integer)\n",
    "\n",
    "print(\"Final Output :\",Decimal_Value)"
   ]
  },
  {
   "cell_type": "markdown",
   "id": "b1a2ce36",
   "metadata": {},
   "source": [
    "# Q.3. Reversing a string using an Extended Slicing Technique ? "
   ]
  },
  {
   "cell_type": "code",
   "execution_count": 3,
   "id": "256c5a4c",
   "metadata": {},
   "outputs": [
    {
     "name": "stdout",
     "output_type": "stream",
     "text": [
      "gnimmargorP nohtyP si sihT ..hsednaS ,olleH\n"
     ]
    }
   ],
   "source": [
    "original_string = \"Hello, Sandesh.. This is Python Programming\"\n",
    "\n",
    "reversed_string = original_string[::-1]\n",
    "\n",
    "print(reversed_string)"
   ]
  },
  {
   "cell_type": "markdown",
   "id": "d2de56a2",
   "metadata": {},
   "source": [
    "# Q.4. Counting the number of occurances of a character in a string ?"
   ]
  },
  {
   "cell_type": "code",
   "execution_count": 4,
   "id": "6a76b7f7",
   "metadata": {},
   "outputs": [
    {
     "name": "stdout",
     "output_type": "stream",
     "text": [
      "The character t\n",
      "Count is 6 times in the string\n"
     ]
    }
   ],
   "source": [
    "\n",
    "string = \"Alliteration is the repetition of the same sound\"\n",
    "\n",
    "char = 't'\n",
    "\n",
    "\n",
    "occurrences = string.count(char)\n",
    "\n",
    "print(\"The character\", char) \n",
    "print(\"Count is\", occurrences, \"times in the string\" )\n"
   ]
  },
  {
   "cell_type": "markdown",
   "id": "dec0d627",
   "metadata": {},
   "source": [
    "# Q.5. Find the maximum and minimum number in a list ?"
   ]
  },
  {
   "cell_type": "code",
   "execution_count": 5,
   "id": "be136dc2",
   "metadata": {},
   "outputs": [
    {
     "name": "stdout",
     "output_type": "stream",
     "text": [
      "The maximum number is: 1000\n",
      "The minimum number is: 1\n"
     ]
    }
   ],
   "source": [
    "\n",
    "numbers = [1, 10, 100, 1000, 1000]\n",
    "\n",
    "\n",
    "max_number = max(numbers)\n",
    "\n",
    "\n",
    "min_number = min(numbers)\n",
    "\n",
    "print(\"The maximum number is:\", max_number)\n",
    "print(\"The minimum number is:\", min_number)\n"
   ]
  },
  {
   "cell_type": "markdown",
   "id": "96bca370",
   "metadata": {},
   "source": [
    "# Q.6. Find the middle element in a list ? "
   ]
  },
  {
   "cell_type": "code",
   "execution_count": 6,
   "id": "9a86b85e",
   "metadata": {},
   "outputs": [
    {
     "name": "stdout",
     "output_type": "stream",
     "text": [
      "3\n"
     ]
    }
   ],
   "source": [
    "my_list = [2, 1, 3, 6, 5]\n",
    "\n",
    "\n",
    "list_length = len(my_list)\n",
    "\n",
    "middle_no = list_length // 2  \n",
    "\n",
    "middle_element = my_list[middle_no]\n",
    "\n",
    "print(middle_element)\n"
   ]
  },
  {
   "cell_type": "markdown",
   "id": "7aaa198f",
   "metadata": {},
   "source": [
    "# Q.7. Converting a list into a string ?"
   ]
  },
  {
   "cell_type": "code",
   "execution_count": 7,
   "id": "6da3b158",
   "metadata": {},
   "outputs": [
    {
     "name": "stdout",
     "output_type": "stream",
     "text": [
      "1 Two Three\n"
     ]
    }
   ],
   "source": [
    "strings = ['1', 'Two', 'Three']\n",
    "\n",
    "Converted_string = ' '.join(strings)\n",
    "\n",
    "print(Converted_string)"
   ]
  },
  {
   "cell_type": "markdown",
   "id": "266b20c9",
   "metadata": {},
   "source": [
    "# Q.8  Adding two list elements together ?"
   ]
  },
  {
   "cell_type": "code",
   "execution_count": 17,
   "id": "4612c538",
   "metadata": {},
   "outputs": [
    {
     "name": "stdout",
     "output_type": "stream",
     "text": [
      "[11, 22, 33, 44]\n"
     ]
    }
   ],
   "source": [
    "list1 = [1, 2, 3, 4]\n",
    "list2 = [10, 20, 30, 40]\n",
    "\n",
    "result_list = list(map(lambda x, y: x + y, list1, list2))\n",
    "\n",
    "print(result_list)"
   ]
  },
  {
   "cell_type": "markdown",
   "id": "02032b82",
   "metadata": {},
   "source": [
    "# Q.9 Write a program to check given number is even or odd ?"
   ]
  },
  {
   "cell_type": "code",
   "execution_count": 9,
   "id": "46d97d20",
   "metadata": {},
   "outputs": [
    {
     "name": "stdout",
     "output_type": "stream",
     "text": [
      "The Number is : Odd\n"
     ]
    }
   ],
   "source": [
    "Number = 5\n",
    "\n",
    "def check_even_odd(Number):\n",
    "    if Number % 2 == 0:\n",
    "        return \"Even\"\n",
    "    else:\n",
    "        return \"Odd\"\n",
    "\n",
    "\n",
    "result = check_even_odd(Number)\n",
    "\n",
    "print(\"The Number is :\", result)\n"
   ]
  },
  {
   "cell_type": "markdown",
   "id": "37e51cf2",
   "metadata": {},
   "source": [
    "# Q.10  Write a program to check given character is a vowel or consonant ? "
   ]
  },
  {
   "cell_type": "code",
   "execution_count": 10,
   "id": "6be6fc33",
   "metadata": {},
   "outputs": [
    {
     "name": "stdout",
     "output_type": "stream",
     "text": [
      "The character is a : Consonant\n"
     ]
    }
   ],
   "source": [
    "char = 'G'\n",
    "\n",
    "def check_vowel_consonant(char):\n",
    "    \n",
    "    vowels = 'aeiouEIOU'\n",
    "    \n",
    "    if char in vowels:\n",
    "        return \"Vowel\"\n",
    "    else:\n",
    "        return \"Consonant\"\n",
    "\n",
    "\n",
    "result = check_vowel_consonant(char)\n",
    "\n",
    "print(\"The character is a :\", result)\n"
   ]
  },
  {
   "cell_type": "markdown",
   "id": "16420de8",
   "metadata": {},
   "source": [
    "# Q.11 Write a program to count vowels and consonants in the string ?"
   ]
  },
  {
   "cell_type": "code",
   "execution_count": 14,
   "id": "4a7630f1",
   "metadata": {},
   "outputs": [
    {
     "name": "stdout",
     "output_type": "stream",
     "text": [
      "Vowels: 12\n",
      "Consonants: 18\n"
     ]
    }
   ],
   "source": [
    "def count_vowels_consonants(string):\n",
    "     \n",
    "    vowels = 'SHadurNABEeh'\n",
    "     \n",
    "    vowel_count = 0\n",
    "    consonant_count = 0\n",
    "    \n",
    "    for char in string:\n",
    "            if char in vowels:\n",
    "                vowel_count += 1\n",
    "            else:\n",
    "                consonant_count += 1\n",
    "\n",
    "    return vowel_count, consonant_count\n",
    "\n",
    "\n",
    "\n",
    "string = \"Hello, Sandesh... How Are you?\"\n",
    "\n",
    "\n",
    "vowels, consonants = count_vowels_consonants(string)\n",
    "\n",
    "print(\"Vowels:\", vowels) \n",
    "print(\"Consonants:\", consonants)\n"
   ]
  },
  {
   "cell_type": "markdown",
   "id": "6420c12e",
   "metadata": {},
   "source": [
    "# Q.12 Write a program to remove spaces from string without inbuilt function ? "
   ]
  },
  {
   "cell_type": "code",
   "execution_count": 16,
   "id": "8aeff489",
   "metadata": {},
   "outputs": [
    {
     "name": "stdout",
     "output_type": "stream",
     "text": [
      "HiSandesh!,ThisIsPythonProgramming...!!\n"
     ]
    }
   ],
   "source": [
    "string_with_spaces = \"Hi Sandesh!, This Is Python Programming...!!\"\n",
    "\n",
    "string_without_spaces = ''.join(filter(lambda x: x != ' ', string_with_spaces))\n",
    "\n",
    "print(string_without_spaces)\n"
   ]
  },
  {
   "cell_type": "code",
   "execution_count": null,
   "id": "c27e56b0",
   "metadata": {},
   "outputs": [],
   "source": []
  }
 ],
 "metadata": {
  "kernelspec": {
   "display_name": "Python 3 (ipykernel)",
   "language": "python",
   "name": "python3"
  },
  "language_info": {
   "codemirror_mode": {
    "name": "ipython",
    "version": 3
   },
   "file_extension": ".py",
   "mimetype": "text/x-python",
   "name": "python",
   "nbconvert_exporter": "python",
   "pygments_lexer": "ipython3",
   "version": "3.11.5"
  }
 },
 "nbformat": 4,
 "nbformat_minor": 5
}
